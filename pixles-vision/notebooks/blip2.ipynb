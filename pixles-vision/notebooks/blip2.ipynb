{
 "cells": [
  {
   "cell_type": "markdown",
   "metadata": {},
   "source": [
    "# BLIP-2 Image Captioning Experiments"
   ]
  },
  {
   "cell_type": "code",
   "execution_count": 1,
   "metadata": {},
   "outputs": [],
   "source": [
    "import torch\n",
    "from PIL import Image\n",
    "from transformers.models.blip_2 import Blip2Processor, Blip2ForConditionalGeneration, Blip2Config\n",
    "import matplotlib.pyplot as plt\n",
    "import requests\n",
    "from io import BytesIO"
   ]
  },
  {
   "cell_type": "markdown",
   "metadata": {},
   "source": [
    "## Load the Pretrained BLIP-2 Model and Processor\n",
    "\n",
    "TODO: This notebook is WIP"
   ]
  },
  {
   "cell_type": "code",
   "execution_count": null,
   "metadata": {},
   "outputs": [
    {
     "data": {
      "application/vnd.jupyter.widget-view+json": {
       "model_id": "2e64498226f6454484f0666b9f3f6224",
       "version_major": 2,
       "version_minor": 0
      },
      "text/plain": [
       "model.safetensors.index.json:   0%|          | 0.00/122k [00:00<?, ?B/s]"
      ]
     },
     "metadata": {},
     "output_type": "display_data"
    },
    {
     "data": {
      "application/vnd.jupyter.widget-view+json": {
       "model_id": "ccf4d79dc768483e873a20b47c244126",
       "version_major": 2,
       "version_minor": 0
      },
      "text/plain": [
       "Fetching 2 files:   0%|          | 0/2 [00:00<?, ?it/s]"
      ]
     },
     "metadata": {},
     "output_type": "display_data"
    },
    {
     "data": {
      "application/vnd.jupyter.widget-view+json": {
       "model_id": "56fb37be537c4f4da1772d3f92c6dc9c",
       "version_major": 2,
       "version_minor": 0
      },
      "text/plain": [
       "model-00002-of-00002.safetensors:   0%|          | 0.00/4.98G [00:00<?, ?B/s]"
      ]
     },
     "metadata": {},
     "output_type": "display_data"
    },
    {
     "data": {
      "application/vnd.jupyter.widget-view+json": {
       "model_id": "efc7a8d124384d1bb93e8585591f308e",
       "version_major": 2,
       "version_minor": 0
      },
      "text/plain": [
       "model-00001-of-00002.safetensors:   0%|          | 0.00/10.0G [00:00<?, ?B/s]"
      ]
     },
     "metadata": {},
     "output_type": "display_data"
    }
   ],
   "source": [
    "# Load the model and processor\n",
    "model_name = \"Salesforce/blip2-opt-2.7b\"\n",
    "processor = Blip2Processor.from_pretrained(model_name)\n",
    "model = Blip2ForConditionalGeneration.from_pretrained(\n",
    "    model_name,\n",
    "    device_map=\"auto\",  # This handles CUDA placement automatically\n",
    "    torch_dtype=torch.float16  # Ensure consistent dtype\n",
    ")"
   ]
  },
  {
   "cell_type": "markdown",
   "metadata": {},
   "source": [
    "## Function to Generate Captions"
   ]
  },
  {
   "cell_type": "code",
   "execution_count": null,
   "metadata": {},
   "outputs": [],
   "source": [
    "def generate_caption(image_path_or_url, prompt=\"\", is_url=False):\n",
    "    \"\"\"\n",
    "    Generate a caption for an image using BLIP-2.\n",
    "    \n",
    "    Args:\n",
    "        image_path_or_url: Path to local image or URL to image\n",
    "        prompt: Optional prompt to guide caption generation\n",
    "        is_url: Boolean indicating if the image_path_or_url is a URL\n",
    "        \n",
    "    Returns:\n",
    "        Generated caption\n",
    "    \"\"\"\n",
    "    try:\n",
    "        # Load the image\n",
    "        if is_url:\n",
    "            response = requests.get(image_path_or_url)\n",
    "            image = Image.open(BytesIO(response.content)).convert('RGB')\n",
    "        else:\n",
    "            image = Image.open(image_path_or_url).convert('RGB')\n",
    "        \n",
    "        # Display the image\n",
    "        plt.figure(figsize=(10, 10))\n",
    "        plt.imshow(image)\n",
    "        plt.axis('off')\n",
    "        plt.show()\n",
    "        \n",
    "        # Process the image and generate caption\n",
    "        if prompt:\n",
    "            # If prompt is provided, use it to guide the generation\n",
    "            inputs = processor(images=image, text=prompt, return_tensors=\"pt\").to(device=device, dtype=torch.float16)\n",
    "        else:\n",
    "            # Otherwise, use the default prompt\n",
    "            inputs = processor(images=image, return_tensors=\"pt\").to(device=device, dtype=torch.float16)\n",
    "        \n",
    "        # Generate caption\n",
    "        generated_ids = model.generate(\n",
    "            **inputs,\n",
    "            max_length=50,\n",
    "            num_beams=5,\n",
    "            early_stopping=True\n",
    "        )\n",
    "        \n",
    "        # Decode the generated caption\n",
    "        caption = processor.batch_decode(generated_ids, skip_special_tokens=True)[0].strip()\n",
    "        \n",
    "        return caption\n",
    "    \n",
    "    except Exception as e:\n",
    "        return f\"Error generating caption: {str(e)}\""
   ]
  },
  {
   "cell_type": "markdown",
   "metadata": {},
   "source": [
    "## Example Usage with Sample Images"
   ]
  },
  {
   "cell_type": "code",
   "execution_count": null,
   "metadata": {},
   "outputs": [],
   "source": [
    "# Example 1: Caption an image from URL\n",
    "image_url = \"https://storage.googleapis.com/sfr-vision-language-research/BLIP/demo.jpg\"\n",
    "caption = generate_caption(image_url, is_url=True)\n",
    "print(f\"Generated caption: {caption}\")"
   ]
  },
  {
   "cell_type": "code",
   "execution_count": null,
   "metadata": {},
   "outputs": [],
   "source": [
    "# Example 2: Caption with a guiding prompt\n",
    "image_url = \"https://storage.googleapis.com/sfr-vision-language-research/BLIP/demo.jpg\"\n",
    "prompt = \"a photo of\"\n",
    "caption = generate_caption(image_url, prompt=prompt, is_url=True)\n",
    "print(f\"Generated caption with prompt '{prompt}': {caption}\")"
   ]
  },
  {
   "cell_type": "markdown",
   "metadata": {},
   "source": [
    "## Function to Caption Images from Local Files"
   ]
  },
  {
   "cell_type": "code",
   "execution_count": null,
   "metadata": {},
   "outputs": [],
   "source": [
    "def caption_local_image(file_path, prompt=\"\"):\n",
    "    \"\"\"\n",
    "    Generate a caption for a local image file\n",
    "    \n",
    "    Args:\n",
    "        file_path: Path to local image file\n",
    "        prompt: Optional prompt to guide caption generation\n",
    "        \n",
    "    Returns:\n",
    "        Generated caption\n",
    "    \"\"\"\n",
    "    return generate_caption(file_path, prompt=prompt, is_url=False)"
   ]
  },
  {
   "cell_type": "code",
   "execution_count": null,
   "metadata": {},
   "outputs": [],
   "source": [
    "# local_image_path = \"path/to/your/image.jpg\"\n",
    "# caption = caption_local_image(local_image_path)\n",
    "# print(f\"Generated caption for local image: {caption}\")"
   ]
  },
  {
   "cell_type": "markdown",
   "metadata": {},
   "source": [
    "## Function to Process Multiple Images"
   ]
  },
  {
   "cell_type": "code",
   "execution_count": null,
   "metadata": {},
   "outputs": [],
   "source": [
    "def batch_caption_images(image_paths_or_urls, is_urls=True, prompt=\"\"):\n",
    "    \"\"\"\n",
    "    Generate captions for multiple images\n",
    "    \n",
    "    Args:\n",
    "        image_paths_or_urls: List of image paths or URLs\n",
    "        is_urls: Boolean indicating if the inputs are URLs\n",
    "        prompt: Optional prompt to guide caption generation\n",
    "        \n",
    "    Returns:\n",
    "        Dictionary of image paths/URLs and their captions\n",
    "    \"\"\"\n",
    "    results = {}\n",
    "    for img in image_paths_or_urls:\n",
    "        caption = generate_caption(img, prompt=prompt, is_url=is_urls)\n",
    "        results[img] = caption\n",
    "        print(f\"Image: {img}\")\n",
    "        print(f\"Caption: {caption}\")\n",
    "        print(\"-\" * 50)\n",
    "    \n",
    "    return results"
   ]
  },
  {
   "cell_type": "code",
   "execution_count": null,
   "metadata": {},
   "outputs": [],
   "source": [
    "# Example batch processing of URLs\n",
    "# image_urls = [\n",
    "#     \"https://storage.googleapis.com/sfr-vision-language-research/BLIP/demo.jpg\",\n",
    "#     \"https://example.com/another-image.jpg\"\n",
    "# ]\n",
    "# batch_results = batch_caption_images(image_urls)"
   ]
  },
  {
   "cell_type": "markdown",
   "metadata": {},
   "source": [
    "## Advanced: Customize Generation Parameters"
   ]
  },
  {
   "cell_type": "code",
   "execution_count": null,
   "metadata": {},
   "outputs": [],
   "source": [
    "def generate_detailed_caption(image_path_or_url, is_url=False, \n",
    "                              num_beams=5, max_length=75, \n",
    "                              prompt=\"Describe this image in detail:\"):\n",
    "    \"\"\"\n",
    "    Generate a more detailed caption with custom parameters\n",
    "    \n",
    "    Args:\n",
    "        image_path_or_url: Path to local image or URL to image\n",
    "        is_url: Boolean indicating if the image_path_or_url is a URL\n",
    "        num_beams: Number of beams for beam search\n",
    "        max_length: Maximum length of generated caption\n",
    "        prompt: Prompt to guide caption generation\n",
    "        \n",
    "    Returns:\n",
    "        Generated detailed caption\n",
    "    \"\"\"\n",
    "    try:\n",
    "        # Load the image\n",
    "        if is_url:\n",
    "            response = requests.get(image_path_or_url)\n",
    "            image = Image.open(BytesIO(response.content)).convert('RGB')\n",
    "        else:\n",
    "            image = Image.open(image_path_or_url).convert('RGB')\n",
    "        \n",
    "        # Display the image\n",
    "        plt.figure(figsize=(10, 10))\n",
    "        plt.imshow(image)\n",
    "        plt.axis('off')\n",
    "        plt.show()\n",
    "        \n",
    "        # Process the image with the detailed prompt\n",
    "        inputs = processor(images=image, text=prompt, return_tensors=\"pt\").to(device, torch.float16)\n",
    "        \n",
    "        # Generate detailed caption with custom parameters\n",
    "        generated_ids = model.generate(\n",
    "            **inputs,\n",
    "            max_length=max_length,\n",
    "            num_beams=num_beams,\n",
    "            early_stopping=True,\n",
    "            do_sample=True,\n",
    "            top_k=50,\n",
    "            temperature=0.7\n",
    "        )\n",
    "        \n",
    "        # Decode the generated caption\n",
    "        detailed_caption = processor.batch_decode(generated_ids, skip_special_tokens=True)[0].strip()\n",
    "        \n",
    "        return detailed_caption\n",
    "    \n",
    "    except Exception as e:\n",
    "        return f\"Error generating detailed caption: {str(e)}\""
   ]
  },
  {
   "cell_type": "code",
   "execution_count": null,
   "metadata": {},
   "outputs": [],
   "source": [
    "# Example of generating a more detailed caption\n",
    "image_url = \"https://storage.googleapis.com/sfr-vision-language-research/BLIP/demo.jpg\"\n",
    "detailed_caption = generate_detailed_caption(image_url, is_url=True)\n",
    "print(f\"Detailed caption: {detailed_caption}\")"
   ]
  },
  {
   "cell_type": "markdown",
   "metadata": {},
   "source": [
    "## Save Model for Future Use"
   ]
  },
  {
   "cell_type": "code",
   "execution_count": null,
   "metadata": {},
   "outputs": [],
   "source": [
    "def save_model_locally(save_dir=\"./blip2_model\"):\n",
    "    \"\"\"Save the model and processor locally for future use\"\"\"\n",
    "    try:\n",
    "        # Create directory if it doesn't exist\n",
    "        import os\n",
    "        os.makedirs(save_dir, exist_ok=True)\n",
    "        \n",
    "        # Save processor and model\n",
    "        processor.save_pretrained(save_dir)\n",
    "        model.save_pretrained(save_dir)\n",
    "        \n",
    "        print(f\"Model and processor saved to {save_dir}\")\n",
    "    except Exception as e:\n",
    "        print(f\"Error saving model: {str(e)}\")\n"
   ]
  },
  {
   "cell_type": "code",
   "execution_count": null,
   "metadata": {},
   "outputs": [],
   "source": [
    "# Uncomment to save the model locally\n",
    "# save_model_locally()"
   ]
  },
  {
   "cell_type": "markdown",
   "metadata": {},
   "source": [
    "## Load Local Model"
   ]
  },
  {
   "cell_type": "code",
   "execution_count": null,
   "metadata": {},
   "outputs": [],
   "source": [
    "def load_local_model(model_dir=\"./blip2_model\"):\n",
    "    \"\"\"Load a locally saved model\"\"\"\n",
    "    try:\n",
    "        local_processor = Blip2Processor.from_pretrained(model_dir)\n",
    "        local_model = Blip2ForConditionalGeneration.from_pretrained(\n",
    "            model_dir,\n",
    "            torch_dtype=torch.float16\n",
    "        ).to(device)\n",
    "        \n",
    "        print(\"Local model loaded successfully\")\n",
    "        return local_processor, local_model\n",
    "    except Exception as e:\n",
    "        print(f\"Error loading local model: {str(e)}\")\n",
    "        return None, None"
   ]
  }
 ],
 "metadata": {
  "kernelspec": {
   "display_name": ".venv",
   "language": "python",
   "name": "python3"
  },
  "language_info": {
   "codemirror_mode": {
    "name": "ipython",
    "version": 3
   },
   "file_extension": ".py",
   "mimetype": "text/x-python",
   "name": "python",
   "nbconvert_exporter": "python",
   "pygments_lexer": "ipython3",
   "version": "3.12.9"
  }
 },
 "nbformat": 4,
 "nbformat_minor": 2
}
